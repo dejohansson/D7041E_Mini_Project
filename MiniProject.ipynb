{
 "cells": [
  {
   "cell_type": "code",
   "execution_count": 101,
   "metadata": {},
   "outputs": [],
   "source": [
    "import speech_recognition as sr\n",
    "import os"
   ]
  },
  {
   "cell_type": "code",
   "execution_count": 102,
   "metadata": {},
   "outputs": [],
   "source": [
    "r = sr.Recognizer()"
   ]
  },
  {
   "cell_type": "code",
   "execution_count": 103,
   "metadata": {
    "scrolled": true
   },
   "outputs": [
    {
     "name": "stdout",
     "output_type": "stream",
     "text": [
      "talk\n",
      "thanks\n",
      "TEXT yes\n"
     ]
    }
   ],
   "source": [
    "with sr.Microphone() as source:\n",
    "    print(\"talk\")\n",
    "    audio = r.listen(source)\n",
    "    print(\"thanks\")\n",
    "\n",
    "try:\n",
    "    print(\"TEXT\", r.recognize_google(audio))\n",
    "except:\n",
    "    pass\n"
   ]
  },
  {
   "cell_type": "code",
   "execution_count": 98,
   "metadata": {},
   "outputs": [
    {
     "name": "stdout",
     "output_type": "stream",
     "text": [
      "TEXT kasuri can you connect positive eephus Le Duty\n"
     ]
    }
   ],
   "source": [
    "test = sr.AudioFile(\"test.wav\")\n",
    "with test as source:\n",
    "    audio = r.record(source)\n",
    "try:\n",
    "    print(\"TEXT\", r.recognize_google(audio))\n",
    "except:\n",
    "    pass"
   ]
  },
  {
   "cell_type": "code",
   "execution_count": 111,
   "metadata": {},
   "outputs": [],
   "source": [
    "french = os.listdir(\"French\")\n",
    "eng = os.listdir(\"English\")"
   ]
  },
  {
   "cell_type": "code",
   "execution_count": 113,
   "metadata": {},
   "outputs": [],
   "source": [
    "tr_set = []\n",
    "tr_label = []\n",
    "for i in range(0,len(french)):\n",
    "    test = sr.AudioFile(os.path.join(\"French\",french[i]))\n",
    "    with test as source:\n",
    "        audio = r.record(source)\n",
    "    try:\n",
    "        tr_set.append(r.recognize_google(audio))\n",
    "        tr_label.append(\"FR\")\n",
    "    except:\n",
    "        pass\n",
    "for i in range(0,len(eng)):\n",
    "    test = sr.AudioFile(os.path.join(\"English\",eng[i]))\n",
    "    with test as source:\n",
    "        audio = r.record(source)\n",
    "    try:\n",
    "        tr_set.append(r.recognize_google(audio))\n",
    "        tr_label.append(\"ENG\")\n",
    "    except:\n",
    "        pass"
   ]
  },
  {
   "cell_type": "code",
   "execution_count": 114,
   "metadata": {},
   "outputs": [
    {
     "name": "stdout",
     "output_type": "stream",
     "text": [
      "['Cincinnati predictability Kings of Santo Cielo prisoner', 'always only prestige in North Wilson Avenue your fate to the sidewalk', \"the devil. Will probably do you like he's actually Cuvee\", 'news on Barclay Farm Elizabethtown Kentucky pottery Devon', 'the conseil constitutionnel country Galaxy J', 'cuz you disposed individual Emily Street', 'SunPass Edition Woodrow Suzuki video substance', 'obviously mailbox with only råneå podcast', 'you know some little squishy phone', 'depasquale Banta induced Marissa mention emiliani', 'acai Bowl', 'Nissan Yandex have a sausage and only give me the phone number to album', 'did you meet someone Amenia Kumo', 'remember that I said to you', 'is something a fungal fac pussy compilation', 'schedule on a bike Edition Nissan Leaf from you to Siri', 'episode of Today Show no czechoslovak', 'National Airport Ricardo program', 'La Posta de peso silver in Poquoson Visage', 'electron geometry', 'the conversation', 'lumber companies supposed to rain in Middletown', 'I got it brother to chamonix', 'did you cool the lateral entry for natural style', 'Nathalie Emmanuel it important to self to do some soccer', 'legend of the funky little Mexican', 'composite', 'take as an adult', 'she talked to the captain captain', \"avesta existence I don't see why hook you Layla Hagen medium\", 'Alexa communication', \"should a normal blood glucose testing we do twice don't get any recent apologies with\", 'Siege of 80 aniversario', 'if we could of course Sizzler', 'Uncle Phil chili Atlanta supposed to deposit a ounce of somotillo up', 'digital cookie', \"he's okay.\", 'Kenyatta shares the kitchen from the booth', \"it's cool babe as a plus Seattle DaVita\", 'Dominion Animal on cat litter to the kitchen', 'find them Prestige Arizona list', 'recent celebrity deaths', 'Le Myers Navajo California', 'RuPaul Disney Channel', 'results winner of apostrophe Bianca', 'Juan Jose Pascal American Idol music', 'but it is a splendid in Iwilei buttermilk Pursuit', 'president with the deposits under she need to clip on the professor', 'Cisco ccent Ponkapoag to the present position', 'then why did you cut you out you will have to Circle J', \"you crazy don't let other people like normally put in yeast\", 'you will feel like leaving you pull up Oceanic Scott music', 'poor little crooked leg was terribly scared', 'the last unrefrigerated test', 'Anita Pandey Johnston our service in this case was evidence', \"peace be with you and Grace Grace people don't know\", 'Houston malls open the world of shaped veiny on his lair', 'Domingo to contemporaneous working with their appreciation', 'what was praying', 'this time she Pho broth together video snap', 'then they do use as I said how sweet', \"is my Indian orso's Toyota man\", 'Diana hands were really strong enough for him to sign the document', 'there is a kindly horse named Nellie a cow a cough and garden with an elementary', 'his eyes never took themselves for an instant from his companions face', 'something that Whittemore had not yet said thrilled him', 'lakes and rivers hundreds of them thousands of them', 'in moments of mental energy Philip was Restless', 'he would keep his faith with Gregson for the promised day or two', 'something about it seemed to Fascinate him to challenge his presence', 'now it was missing from the wall', 'he pulled himself some coffee and sat down to wait', \"I'm going down there with you and I'm going to fight\", \"don't have you got anything to say against me mr. Philip\", 'if I meet her again I shall apologize said Eileen', 'below him the shadow was broken into a pool of Rippling Starlight', 'only the chance sound had let him to observe them', 'her beautiful hair was done', 'The Churchill Niro', 'minute', 'Darkness hit him on Jean', 'and yet if she came she had no words to say', 'he heard a sound with the broken quickly is a consequence of gold', 'within himself a cold is no longer his own', 'besides that noise Make Me deaf', \"couldn't look back from the crest and Tall Jean over-the-counter we\", 'Starvin died on the Stuart', \"oh it's just a novel a love story\", 'who ever lived on the ranch did that', 'how old are you mother', 'some have accepted it as an American results physical examination']\n",
      "['FR', 'FR', 'FR', 'FR', 'FR', 'FR', 'FR', 'FR', 'FR', 'FR', 'FR', 'FR', 'FR', 'FR', 'FR', 'FR', 'FR', 'FR', 'FR', 'FR', 'FR', 'FR', 'FR', 'FR', 'FR', 'FR', 'FR', 'FR', 'FR', 'FR', 'FR', 'FR', 'FR', 'FR', 'FR', 'FR', 'FR', 'FR', 'FR', 'FR', 'FR', 'FR', 'FR', 'FR', 'FR', 'FR', 'FR', 'FR', 'FR', 'FR', 'FR', 'FR', 'ENG', 'ENG', 'ENG', 'ENG', 'ENG', 'ENG', 'ENG', 'ENG', 'ENG', 'ENG', 'ENG', 'ENG', 'ENG', 'ENG', 'ENG', 'ENG', 'ENG', 'ENG', 'ENG', 'ENG', 'ENG', 'ENG', 'ENG', 'ENG', 'ENG', 'ENG', 'ENG', 'ENG', 'ENG', 'ENG', 'ENG', 'ENG', 'ENG', 'ENG', 'ENG', 'ENG', 'ENG', 'ENG', 'ENG']\n"
     ]
    }
   ],
   "source": [
    "print (tr_set)\n",
    "print (tr_label)"
   ]
  },
  {
   "cell_type": "code",
   "execution_count": 115,
   "metadata": {},
   "outputs": [],
   "source": [
    "wordcount = {}\n",
    "for line in tr_set:\n",
    "    words = line.split()\n",
    "    for word in words:\n",
    "        if wordcount.get(word) is None:\n",
    "            wordcount[word] = 1\n",
    "        else:\n",
    "            wordcount[word] += 1"
   ]
  },
  {
   "cell_type": "code",
   "execution_count": 121,
   "metadata": {},
   "outputs": [],
   "source": [
    "wordcount = sorted(wordcount.items(), key=lambda kv: kv[1])"
   ]
  },
  {
   "cell_type": "code",
   "execution_count": 130,
   "metadata": {},
   "outputs": [
    {
     "name": "stdout",
     "output_type": "stream",
     "text": [
      "Number of stopwords:  21\n"
     ]
    }
   ],
   "source": [
    "stopwords = []\n",
    "for i in range(-1, -1*(len(wordcount)//20), -1):\n",
    "    stopwords.append(wordcount[i][0])\n",
    "print(\"Number of stopwords: \", len(stopwords))\n",
    "    "
   ]
  },
  {
   "cell_type": "code",
   "execution_count": null,
   "metadata": {},
   "outputs": [],
   "source": [
    "def stopwords(text):\n",
    "    '''a function for removing the stopword'''\n",
    "    # removing the stop words and lowercasing the selected words\n",
    "    text = [word.lower() for word in text.split() if word.lower() not in sw]\n",
    "    # joining the list of words with space separator\n",
    "    return \" \".join(text)"
   ]
  },
  {
   "cell_type": "code",
   "execution_count": 135,
   "metadata": {},
   "outputs": [],
   "source": [
    "training = []\n",
    "for text in tr_set:\n",
    "    text = [word.lower() for word in text.split() if word.lower() not in stopwords]\n",
    "    text = \" \".join(text)\n",
    "    training.append(text)"
   ]
  },
  {
   "cell_type": "code",
   "execution_count": 136,
   "metadata": {},
   "outputs": [
    {
     "data": {
      "text/plain": [
       "['cincinnati predictability kings santo cielo prisoner',\n",
       " 'always only prestige north wilson avenue your fate sidewalk',\n",
       " \"devil. will probably do like he's actually cuvee\",\n",
       " 'news barclay farm elizabethtown kentucky pottery devon',\n",
       " 'conseil constitutionnel country galaxy j',\n",
       " 'cuz disposed individual emily street',\n",
       " 'sunpass edition woodrow suzuki video substance',\n",
       " 'obviously mailbox only råneå podcast',\n",
       " 'know some little squishy phone',\n",
       " 'depasquale banta induced marissa mention emiliani',\n",
       " 'acai bowl',\n",
       " 'nissan yandex have sausage only give me phone number album',\n",
       " 'did meet someone amenia kumo',\n",
       " 'remember that i said',\n",
       " 'something fungal fac pussy compilation',\n",
       " 'schedule bike edition nissan leaf siri',\n",
       " 'episode today show no czechoslovak',\n",
       " 'national airport ricardo program',\n",
       " 'la posta de peso silver poquoson visage',\n",
       " 'electron geometry',\n",
       " 'conversation',\n",
       " 'lumber companies supposed rain middletown',\n",
       " 'i got brother chamonix',\n",
       " 'did cool lateral entry for natural style',\n",
       " 'nathalie emmanuel important self do some soccer',\n",
       " 'legend funky little mexican',\n",
       " 'composite',\n",
       " 'take adult',\n",
       " 'talked captain captain',\n",
       " 'avesta existence i see why hook layla hagen medium',\n",
       " 'alexa communication',\n",
       " 'should normal blood glucose testing we do twice get any recent apologies',\n",
       " 'siege 80 aniversario',\n",
       " 'if we could course sizzler',\n",
       " 'uncle phil chili atlanta supposed deposit ounce somotillo up',\n",
       " 'digital cookie',\n",
       " \"he's okay.\",\n",
       " 'kenyatta shares kitchen booth',\n",
       " \"it's cool babe plus seattle davita\",\n",
       " 'dominion animal cat litter kitchen',\n",
       " 'find prestige arizona list',\n",
       " 'recent celebrity deaths',\n",
       " 'le myers navajo california',\n",
       " 'rupaul disney channel',\n",
       " 'results winner apostrophe bianca',\n",
       " 'juan jose pascal american idol music',\n",
       " 'but splendid iwilei buttermilk pursuit',\n",
       " 'president deposits under need clip professor',\n",
       " 'cisco ccent ponkapoag present position',\n",
       " 'then why did cut out will have circle j',\n",
       " 'crazy let other people like normally put yeast',\n",
       " 'will feel like leaving pull up oceanic scott music',\n",
       " 'poor little crooked leg terribly scared',\n",
       " 'last unrefrigerated test',\n",
       " 'anita pandey johnston our service this case evidence',\n",
       " 'peace be grace grace people know',\n",
       " 'houston malls open world shaped veiny lair',\n",
       " 'domingo contemporaneous working their appreciation',\n",
       " 'what praying',\n",
       " 'this time pho broth together video snap',\n",
       " 'then they do use i said how sweet',\n",
       " \"my indian orso's toyota man\",\n",
       " 'diana hands were really strong enough for sign document',\n",
       " 'there kindly horse named nellie cow cough garden elementary',\n",
       " 'eyes never took themselves for instant companions face',\n",
       " 'something that whittemore had not yet said thrilled',\n",
       " 'lakes rivers hundreds thousands',\n",
       " 'moments mental energy philip restless',\n",
       " 'he would keep faith gregson for promised day or two',\n",
       " 'something about seemed fascinate challenge presence',\n",
       " 'now missing wall',\n",
       " 'he pulled himself some coffee sat down wait',\n",
       " \"i'm going down there i'm going fight\",\n",
       " 'have got anything say against me mr. philip',\n",
       " 'if i meet her again i shall apologize said eileen',\n",
       " 'below shadow broken into pool rippling starlight',\n",
       " 'only chance sound had let observe',\n",
       " 'her beautiful hair done',\n",
       " 'churchill niro',\n",
       " 'minute',\n",
       " 'darkness hit jean',\n",
       " 'yet if came had no words say',\n",
       " 'he heard sound broken quickly consequence gold',\n",
       " 'within himself cold no longer own',\n",
       " 'besides that noise make me deaf',\n",
       " \"couldn't look back crest tall jean over-the-counter we\",\n",
       " 'starvin died stuart',\n",
       " \"oh it's just novel love story\",\n",
       " 'who ever lived ranch did that',\n",
       " 'how old are mother',\n",
       " 'some have accepted american results physical examination']"
      ]
     },
     "execution_count": 136,
     "metadata": {},
     "output_type": "execute_result"
    }
   ],
   "source": [
    "training"
   ]
  },
  {
   "cell_type": "code",
   "execution_count": null,
   "metadata": {},
   "outputs": [],
   "source": [
    "\n"
   ]
  }
 ],
 "metadata": {
  "kernelspec": {
   "display_name": "Python 3",
   "language": "python",
   "name": "python3"
  },
  "language_info": {
   "codemirror_mode": {
    "name": "ipython",
    "version": 3
   },
   "file_extension": ".py",
   "mimetype": "text/x-python",
   "name": "python",
   "nbconvert_exporter": "python",
   "pygments_lexer": "ipython3",
   "version": "3.6.8"
  }
 },
 "nbformat": 4,
 "nbformat_minor": 2
}
