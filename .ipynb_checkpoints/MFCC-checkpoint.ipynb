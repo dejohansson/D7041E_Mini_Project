{
 "cells": [
  {
   "cell_type": "code",
   "execution_count": 34,
   "metadata": {},
   "outputs": [
    {
     "name": "stdout",
     "output_type": "stream",
     "text": [
      "(624, 13)\n",
      "(112000,)\n"
     ]
    }
   ],
   "source": [
    "import os\n",
    "import numpy as np\n",
    "from python_speech_features import mfcc\n",
    "from python_speech_features import delta\n",
    "from python_speech_features import logfbank\n",
    "import scipy.io.wavfile as wav\n",
    "\n",
    "(rate,sig) = wav.read(\"dataset/french/4h-20100505-vgm/wav/fr-sb-758.wav\")\n",
    "mfcc_feat = mfcc(sig[:100000],rate)\n",
    "d_mfcc_feat = delta(mfcc_feat, 2)\n",
    "fbank_feat = logfbank(sig[:100000],rate)\n",
    "\n",
    "print(mfcc_feat.shape)\n",
    "print(sig.shape)"
   ]
  },
  {
   "cell_type": "code",
   "execution_count": 52,
   "metadata": {},
   "outputs": [
    {
     "name": "stdout",
     "output_type": "stream",
     "text": [
      "Done\n"
     ]
    }
   ],
   "source": [
    "frenchData = []\n",
    "minLength = np.Infinity\n",
    "\n",
    "\n",
    "for folder in os.listdir(\"dataset/french\"):\n",
    "    try:\n",
    "        for file in os.listdir(os.path.join(\"dataset/french\", folder, \"wav\")):\n",
    "            (rate,sig) = wav.read(os.path.join(\"dataset/french\", folder, \"wav\", file))\n",
    "            frenchData.append((sig, rate))\n",
    "            if sig.size < minLength:\n",
    "                minLength = sig.size\n",
    "    except FileNotFoundError:\n",
    "        pass\n",
    "        \n",
    "print(\"Done\")\n",
    "frenchData = np.array(frenchData)\n",
    "\n"
   ]
  },
  {
   "cell_type": "code",
   "execution_count": 70,
   "metadata": {},
   "outputs": [],
   "source": [
    "frenchMFCC = []\n",
    "\n",
    "for i in range(frenchData.shape[0]):\n",
    "    frenchMFCC.append(mfcc(frenchData[i][0][:minLength], frenchData[i][1]))\n",
    "    #d_mfcc_feat = delta(mfcc_feat, 2)\n",
    "    #fbank_feat = logfbank(sig,rate)\n",
    "frenchMFCC = np.array(frenchMFCC)"
   ]
  },
  {
   "cell_type": "code",
   "execution_count": 75,
   "metadata": {},
   "outputs": [
    {
     "name": "stdout",
     "output_type": "stream",
     "text": [
      "(74, 13)\n"
     ]
    }
   ],
   "source": [
    "print(frenchMFCC[0].shape)#.shape)\n",
    "#print(frenchMFCC)"
   ]
  },
  {
   "cell_type": "code",
   "execution_count": 76,
   "metadata": {},
   "outputs": [
    {
     "data": {
      "text/plain": [
       "12000"
      ]
     },
     "execution_count": 76,
     "metadata": {},
     "output_type": "execute_result"
    }
   ],
   "source": []
  },
  {
   "cell_type": "code",
   "execution_count": null,
   "metadata": {},
   "outputs": [],
   "source": []
  }
 ],
 "metadata": {
  "kernelspec": {
   "display_name": "Python 3",
   "language": "python",
   "name": "python3"
  },
  "language_info": {
   "codemirror_mode": {
    "name": "ipython",
    "version": 3
   },
   "file_extension": ".py",
   "mimetype": "text/x-python",
   "name": "python",
   "nbconvert_exporter": "python",
   "pygments_lexer": "ipython3",
   "version": "3.6.8"
  }
 },
 "nbformat": 4,
 "nbformat_minor": 2
}
